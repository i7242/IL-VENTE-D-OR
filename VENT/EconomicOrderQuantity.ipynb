{
  "cells": [
    {
      "cell_type": "markdown",
      "source": [
        "# Economic Order Quantity, EOQ\n",
        "Given **ordering cost** and **holding cost**, find the economic order quantity that minimize the total cost while satisfies the demands.\n",
        "\n",
        "The defination can be found in:\n",
        "* https://en.wikipedia.org/wiki/Economic_order_quantity\n",
        "* https://www.investopedia.com/ask/answers/052715/how-economic-order-quantity-model-used-inventory-management.asp\n",
        "\n",
        "Notice the difference that, some may take the product buying/producing cost into total cost, but others may not. This doesn't influence the analysis."
      ],
      "metadata": {
        "nteract": {
          "transient": {
            "deleting": false
          }
        }
      }
    },
    {
      "cell_type": "markdown",
      "source": [
        "Assume:  \n",
        "$T$: total annual inventory cost  \n",
        "$P$: purchase/production unit cost  \n",
        "$Q$: order quantity  \n",
        "$Qopt$: optimal order quantity  \n",
        "$D$: annual demand quantity  \n",
        "$K$: fixed cost per order  \n",
        "$h$: annual cost of holding per unit product, sometimes expressed as persentage of product price  \n",
        "\n",
        "The total cost is calculated as:\n",
        "$$T = P\\cdot D + K\\frac{D}{Q} + h\\frac{Q}{2}$$\n",
        "\n",
        "Take the partial derivative and let it equals to zero:\n",
        "$$\\partial T / \\partial Q = -\\frac{D\\cdot K}{Q^2} + \\frac{h}{2} = 0$$\n",
        "\n",
        "We got the order quantity that minimize the total cost:\n",
        "$$Q_{opt} = \\sqrt{\\frac{2D\\cdot K}{h}}$$"
      ],
      "metadata": {
        "nteract": {
          "transient": {
            "deleting": false
          }
        }
      }
    },
    {
      "cell_type": "markdown",
      "source": [
        "Following is a simple example to show the equation. Notice that we didn't consider the purchase/production price cost to make the curves have intersection."
      ],
      "metadata": {
        "nteract": {
          "transient": {
            "deleting": false
          }
        }
      }
    },
    {
      "cell_type": "code",
      "source": [
        "using Plots"
      ],
      "outputs": [],
      "execution_count": 1,
      "metadata": {
        "collapsed": true,
        "outputExpanded": false,
        "jupyter": {
          "source_hidden": false,
          "outputs_hidden": false
        },
        "nteract": {
          "transient": {
            "deleting": false
          }
        },
        "execution": {
          "iopub.status.busy": "2020-04-07T16:40:42.039Z",
          "iopub.execute_input": "2020-04-07T16:40:43.224Z",
          "iopub.status.idle": "2020-04-07T16:40:54.667Z"
        }
      }
    },
    {
      "cell_type": "code",
      "source": [
        "D = 10000;\n",
        "K = 40;\n",
        "P = 50;\n",
        "h = 5;\n",
        "Q = 100:10:1000;\n",
        "C1 = K*D./Q;\n",
        "C2 = h.*Q./2;\n",
        "T = C1 + C2;\n",
        "Qopt = sqrt(2*D*K/h);"
      ],
      "outputs": [],
      "execution_count": 44,
      "metadata": {
        "collapsed": true,
        "outputExpanded": false,
        "jupyter": {
          "source_hidden": false,
          "outputs_hidden": false
        },
        "nteract": {
          "transient": {
            "deleting": false
          }
        },
        "execution": {
          "iopub.status.busy": "2020-04-07T19:19:36.730Z",
          "iopub.execute_input": "2020-04-07T19:19:36.733Z",
          "iopub.status.idle": "2020-04-07T19:19:36.737Z"
        }
      }
    },
    {
      "cell_type": "code",
      "source": [
        "plot(Q, C1, label=\"Ordering Cost\")\n",
        "plot!(Q, C2, label=\"Holding Cost\")\n",
        "plot!(Q, T, label=\"Total Cost\")\n",
        "vline!([Qopt], label=\"EOQ\")"
      ],
      "outputs": [
        {
          "output_type": "execute_result",
          "execution_count": 55,
          "data": {
            "image/svg+xml": [
              "<?xml version=\"1.0\" encoding=\"utf-8\"?>\n",
              "<svg xmlns=\"http://www.w3.org/2000/svg\" xmlns:xlink=\"http://www.w3.org/1999/xlink\" width=\"600\" height=\"400\" viewBox=\"0 0 2400 1600\">\n",
              "<defs>\n",
              "  <clipPath id=\"clip4500\">\n",
              "    <rect x=\"0\" y=\"0\" width=\"2400\" height=\"1600\"/>\n",
              "  </clipPath>\n",
              "</defs>\n",
              "<path clip-path=\"url(#clip4500)\" d=\"\n",
              "M0 1600 L2400 1600 L2400 0 L0 0  Z\n",
              "  \" fill=\"#ffffff\" fill-rule=\"evenodd\" fill-opacity=\"1\"/>\n",
              "<defs>\n",
              "  <clipPath id=\"clip4501\">\n",
              "    <rect x=\"480\" y=\"0\" width=\"1681\" height=\"1600\"/>\n",
              "  </clipPath>\n",
              "</defs>\n",
              "<path clip-path=\"url(#clip4500)\" d=\"\n",
              "M194.041 1487.47 L2352.76 1487.47 L2352.76 47.2441 L194.041 47.2441  Z\n",
              "  \" fill=\"#ffffff\" fill-rule=\"evenodd\" fill-opacity=\"1\"/>\n",
              "<defs>\n",
              "  <clipPath id=\"clip4502\">\n",
              "    <rect x=\"194\" y=\"47\" width=\"2160\" height=\"1441\"/>\n",
              "  </clipPath>\n",
              "</defs>\n",
              "<polyline clip-path=\"url(#clip4502)\" style=\"stroke:#000000; stroke-width:2; stroke-opacity:0.1; fill:none\" points=\"\n",
              "  481.418,1487.47 481.418,47.2441 \n",
              "  \"/>\n",
              "<polyline clip-path=\"url(#clip4502)\" style=\"stroke:#000000; stroke-width:2; stroke-opacity:0.1; fill:none\" points=\"\n",
              "  933.978,1487.47 933.978,47.2441 \n",
              "  \"/>\n",
              "<polyline clip-path=\"url(#clip4502)\" style=\"stroke:#000000; stroke-width:2; stroke-opacity:0.1; fill:none\" points=\"\n",
              "  1386.54,1487.47 1386.54,47.2441 \n",
              "  \"/>\n",
              "<polyline clip-path=\"url(#clip4502)\" style=\"stroke:#000000; stroke-width:2; stroke-opacity:0.1; fill:none\" points=\"\n",
              "  1839.1,1487.47 1839.1,47.2441 \n",
              "  \"/>\n",
              "<polyline clip-path=\"url(#clip4502)\" style=\"stroke:#000000; stroke-width:2; stroke-opacity:0.1; fill:none\" points=\"\n",
              "  2291.66,1487.47 2291.66,47.2441 \n",
              "  \"/>\n",
              "<polyline clip-path=\"url(#clip4502)\" style=\"stroke:#000000; stroke-width:2; stroke-opacity:0.1; fill:none\" points=\"\n",
              "  194.041,1191.96 2352.76,1191.96 \n",
              "  \"/>\n",
              "<polyline clip-path=\"url(#clip4502)\" style=\"stroke:#000000; stroke-width:2; stroke-opacity:0.1; fill:none\" points=\"\n",
              "  194.041,852.279 2352.76,852.279 \n",
              "  \"/>\n",
              "<polyline clip-path=\"url(#clip4502)\" style=\"stroke:#000000; stroke-width:2; stroke-opacity:0.1; fill:none\" points=\"\n",
              "  194.041,512.602 2352.76,512.602 \n",
              "  \"/>\n",
              "<polyline clip-path=\"url(#clip4502)\" style=\"stroke:#000000; stroke-width:2; stroke-opacity:0.1; fill:none\" points=\"\n",
              "  194.041,172.925 2352.76,172.925 \n",
              "  \"/>\n",
              "<polyline clip-path=\"url(#clip4500)\" style=\"stroke:#000000; stroke-width:4; stroke-opacity:1; fill:none\" points=\"\n",
              "  194.041,1487.47 2352.76,1487.47 \n",
              "  \"/>\n",
              "<polyline clip-path=\"url(#clip4500)\" style=\"stroke:#000000; stroke-width:4; stroke-opacity:1; fill:none\" points=\"\n",
              "  194.041,1487.47 194.041,47.2441 \n",
              "  \"/>\n",
              "<polyline clip-path=\"url(#clip4500)\" style=\"stroke:#000000; stroke-width:4; stroke-opacity:1; fill:none\" points=\"\n",
              "  481.418,1487.47 481.418,1470.19 \n",
              "  \"/>\n",
              "<polyline clip-path=\"url(#clip4500)\" style=\"stroke:#000000; stroke-width:4; stroke-opacity:1; fill:none\" points=\"\n",
              "  933.978,1487.47 933.978,1470.19 \n",
              "  \"/>\n",
              "<polyline clip-path=\"url(#clip4500)\" style=\"stroke:#000000; stroke-width:4; stroke-opacity:1; fill:none\" points=\"\n",
              "  1386.54,1487.47 1386.54,1470.19 \n",
              "  \"/>\n",
              "<polyline clip-path=\"url(#clip4500)\" style=\"stroke:#000000; stroke-width:4; stroke-opacity:1; fill:none\" points=\"\n",
              "  1839.1,1487.47 1839.1,1470.19 \n",
              "  \"/>\n",
              "<polyline clip-path=\"url(#clip4500)\" style=\"stroke:#000000; stroke-width:4; stroke-opacity:1; fill:none\" points=\"\n",
              "  2291.66,1487.47 2291.66,1470.19 \n",
              "  \"/>\n",
              "<polyline clip-path=\"url(#clip4500)\" style=\"stroke:#000000; stroke-width:4; stroke-opacity:1; fill:none\" points=\"\n",
              "  194.041,1191.96 219.946,1191.96 \n",
              "  \"/>\n",
              "<polyline clip-path=\"url(#clip4500)\" style=\"stroke:#000000; stroke-width:4; stroke-opacity:1; fill:none\" points=\"\n",
              "  194.041,852.279 219.946,852.279 \n",
              "  \"/>\n",
              "<polyline clip-path=\"url(#clip4500)\" style=\"stroke:#000000; stroke-width:4; stroke-opacity:1; fill:none\" points=\"\n",
              "  194.041,512.602 219.946,512.602 \n",
              "  \"/>\n",
              "<polyline clip-path=\"url(#clip4500)\" style=\"stroke:#000000; stroke-width:4; stroke-opacity:1; fill:none\" points=\"\n",
              "  194.041,172.925 219.946,172.925 \n",
              "  \"/>\n",
              "<g clip-path=\"url(#clip4500)\">\n",
              "<text style=\"fill:#000000; fill-opacity:1; font-family:Arial,Helvetica Neue,Helvetica,sans-serif; font-size:48px; text-anchor:middle;\" transform=\"rotate(0, 481.418, 1541.47)\" x=\"481.418\" y=\"1541.47\">200</text>\n",
              "</g>\n",
              "<g clip-path=\"url(#clip4500)\">\n",
              "<text style=\"fill:#000000; fill-opacity:1; font-family:Arial,Helvetica Neue,Helvetica,sans-serif; font-size:48px; text-anchor:middle;\" transform=\"rotate(0, 933.978, 1541.47)\" x=\"933.978\" y=\"1541.47\">400</text>\n",
              "</g>\n",
              "<g clip-path=\"url(#clip4500)\">\n",
              "<text style=\"fill:#000000; fill-opacity:1; font-family:Arial,Helvetica Neue,Helvetica,sans-serif; font-size:48px; text-anchor:middle;\" transform=\"rotate(0, 1386.54, 1541.47)\" x=\"1386.54\" y=\"1541.47\">600</text>\n",
              "</g>\n",
              "<g clip-path=\"url(#clip4500)\">\n",
              "<text style=\"fill:#000000; fill-opacity:1; font-family:Arial,Helvetica Neue,Helvetica,sans-serif; font-size:48px; text-anchor:middle;\" transform=\"rotate(0, 1839.1, 1541.47)\" x=\"1839.1\" y=\"1541.47\">800</text>\n",
              "</g>\n",
              "<g clip-path=\"url(#clip4500)\">\n",
              "<text style=\"fill:#000000; fill-opacity:1; font-family:Arial,Helvetica Neue,Helvetica,sans-serif; font-size:48px; text-anchor:middle;\" transform=\"rotate(0, 2291.66, 1541.47)\" x=\"2291.66\" y=\"1541.47\">1000</text>\n",
              "</g>\n",
              "<g clip-path=\"url(#clip4500)\">\n",
              "<text style=\"fill:#000000; fill-opacity:1; font-family:Arial,Helvetica Neue,Helvetica,sans-serif; font-size:48px; text-anchor:end;\" transform=\"rotate(0, 170.041, 1209.46)\" x=\"170.041\" y=\"1209.46\">1000</text>\n",
              "</g>\n",
              "<g clip-path=\"url(#clip4500)\">\n",
              "<text style=\"fill:#000000; fill-opacity:1; font-family:Arial,Helvetica Neue,Helvetica,sans-serif; font-size:48px; text-anchor:end;\" transform=\"rotate(0, 170.041, 869.779)\" x=\"170.041\" y=\"869.779\">2000</text>\n",
              "</g>\n",
              "<g clip-path=\"url(#clip4500)\">\n",
              "<text style=\"fill:#000000; fill-opacity:1; font-family:Arial,Helvetica Neue,Helvetica,sans-serif; font-size:48px; text-anchor:end;\" transform=\"rotate(0, 170.041, 530.102)\" x=\"170.041\" y=\"530.102\">3000</text>\n",
              "</g>\n",
              "<g clip-path=\"url(#clip4500)\">\n",
              "<text style=\"fill:#000000; fill-opacity:1; font-family:Arial,Helvetica Neue,Helvetica,sans-serif; font-size:48px; text-anchor:end;\" transform=\"rotate(0, 170.041, 190.425)\" x=\"170.041\" y=\"190.425\">4000</text>\n",
              "</g>\n",
              "<polyline clip-path=\"url(#clip4502)\" style=\"stroke:#009af9; stroke-width:4; stroke-opacity:1; fill:none\" points=\"\n",
              "  255.137,172.925 277.765,296.444 300.393,399.376 323.021,486.473 345.649,561.127 368.277,625.827 390.905,682.44 413.533,732.393 436.161,776.795 458.789,816.523 \n",
              "  481.418,852.279 504.046,884.629 526.674,914.038 549.302,940.89 571.93,965.504 594.558,988.149 617.186,1009.05 639.814,1028.41 662.442,1046.38 685.07,1063.11 \n",
              "  707.698,1078.73 730.326,1093.34 752.954,1107.04 775.582,1119.9 798.21,1132.01 820.838,1143.43 843.466,1154.21 866.094,1164.41 888.722,1174.08 911.35,1183.25 \n",
              "  933.978,1191.96 956.606,1200.24 979.234,1208.13 1001.86,1215.65 1024.49,1222.84 1047.12,1229.7 1069.75,1236.26 1092.37,1242.55 1115,1248.57 1137.63,1254.35 \n",
              "  1160.26,1259.89 1182.89,1265.22 1205.51,1270.34 1228.14,1275.27 1250.77,1280.02 1273.4,1284.59 1296.03,1289.01 1318.65,1293.26 1341.28,1297.37 1363.91,1301.34 \n",
              "  1386.54,1305.18 1409.17,1308.89 1431.79,1312.49 1454.42,1315.96 1477.05,1319.33 1499.68,1322.6 1522.31,1325.77 1544.94,1328.84 1567.56,1331.82 1590.19,1334.72 \n",
              "  1612.82,1337.53 1635.45,1340.27 1658.08,1342.92 1680.7,1345.51 1703.33,1348.02 1725.96,1350.47 1748.59,1352.86 1771.22,1355.18 1793.84,1357.44 1816.47,1359.64 \n",
              "  1839.1,1361.79 1861.73,1363.89 1884.36,1365.94 1906.98,1367.93 1929.61,1369.88 1952.24,1371.78 1974.87,1373.64 1997.5,1375.46 2020.12,1377.23 2042.75,1378.97 \n",
              "  2065.38,1380.67 2088.01,1382.32 2110.64,1383.95 2133.26,1385.54 2155.89,1387.09 2178.52,1388.61 2201.15,1390.1 2223.78,1391.56 2246.4,1392.99 2269.03,1394.39 \n",
              "  2291.66,1395.76 \n",
              "  \"/>\n",
              "<polyline clip-path=\"url(#clip4502)\" style=\"stroke:#e26f46; stroke-width:4; stroke-opacity:1; fill:none\" points=\"\n",
              "  255.137,1446.71 277.765,1438.22 300.393,1429.73 323.021,1421.24 345.649,1412.75 368.277,1404.25 390.905,1395.76 413.533,1387.27 436.161,1378.78 458.789,1370.29 \n",
              "  481.418,1361.79 504.046,1353.3 526.674,1344.81 549.302,1336.32 571.93,1327.83 594.558,1319.33 617.186,1310.84 639.814,1302.35 662.442,1293.86 685.07,1285.37 \n",
              "  707.698,1276.87 730.326,1268.38 752.954,1259.89 775.582,1251.4 798.21,1242.91 820.838,1234.42 843.466,1225.92 866.094,1217.43 888.722,1208.94 911.35,1200.45 \n",
              "  933.978,1191.96 956.606,1183.46 979.234,1174.97 1001.86,1166.48 1024.49,1157.99 1047.12,1149.5 1069.75,1141 1092.37,1132.51 1115,1124.02 1137.63,1115.53 \n",
              "  1160.26,1107.04 1182.89,1098.54 1205.51,1090.05 1228.14,1081.56 1250.77,1073.07 1273.4,1064.58 1296.03,1056.08 1318.65,1047.59 1341.28,1039.1 1363.91,1030.61 \n",
              "  1386.54,1022.12 1409.17,1013.63 1431.79,1005.13 1454.42,996.641 1477.05,988.149 1499.68,979.658 1522.31,971.166 1544.94,962.674 1567.56,954.182 1590.19,945.69 \n",
              "  1612.82,937.198 1635.45,928.706 1658.08,920.214 1680.7,911.722 1703.33,903.23 1725.96,894.738 1748.59,886.246 1771.22,877.754 1793.84,869.263 1816.47,860.771 \n",
              "  1839.1,852.279 1861.73,843.787 1884.36,835.295 1906.98,826.803 1929.61,818.311 1952.24,809.819 1974.87,801.327 1997.5,792.835 2020.12,784.343 2042.75,775.851 \n",
              "  2065.38,767.359 2088.01,758.867 2110.64,750.376 2133.26,741.884 2155.89,733.392 2178.52,724.9 2201.15,716.408 2223.78,707.916 2246.4,699.424 2269.03,690.932 \n",
              "  2291.66,682.44 \n",
              "  \"/>\n",
              "<polyline clip-path=\"url(#clip4502)\" style=\"stroke:#3da44d; stroke-width:4; stroke-opacity:1; fill:none\" points=\"\n",
              "  255.137,88.0053 277.765,203.032 300.393,297.473 323.021,376.078 345.649,442.24 368.277,498.448 390.905,546.569 413.533,588.03 436.161,623.94 458.789,655.177 \n",
              "  481.418,682.44 504.046,706.298 526.674,727.216 549.302,745.576 571.93,761.698 594.558,775.851 617.186,788.263 639.814,799.126 662.442,808.606 685.07,816.847 \n",
              "  707.698,823.972 730.326,830.09 752.954,835.295 775.582,839.669 798.21,843.287 820.838,846.213 843.466,848.504 866.094,850.213 888.722,851.385 911.35,852.061 \n",
              "  933.978,852.279 956.606,852.072 979.234,851.47 1001.86,850.501 1024.49,849.191 1047.12,847.561 1069.75,845.633 1092.37,843.425 1115,840.956 1137.63,838.241 \n",
              "  1160.26,835.295 1182.89,832.131 1205.51,828.763 1228.14,825.201 1250.77,821.456 1273.4,817.539 1296.03,813.458 1318.65,809.223 1341.28,804.841 1363.91,800.32 \n",
              "  1386.54,795.666 1409.17,790.886 1431.79,785.987 1454.42,780.973 1477.05,775.851 1499.68,770.626 1522.31,765.301 1544.94,759.881 1567.56,754.372 1590.19,748.776 \n",
              "  1612.82,743.097 1635.45,737.339 1658.08,731.505 1680.7,725.598 1703.33,719.621 1725.96,713.577 1748.59,707.469 1771.22,701.299 1793.84,695.069 1816.47,688.782 \n",
              "  1839.1,682.44 1861.73,676.045 1884.36,669.599 1906.98,663.103 1929.61,656.56 1952.24,649.971 1974.87,643.338 1997.5,636.662 2020.12,629.945 2042.75,623.188 \n",
              "  2065.38,616.392 2088.01,609.559 2110.64,602.69 2133.26,595.786 2155.89,588.848 2178.52,581.878 2201.15,574.876 2223.78,567.843 2246.4,560.78 2269.03,553.689 \n",
              "  2291.66,546.569 \n",
              "  \"/>\n",
              "<polyline clip-path=\"url(#clip4502)\" style=\"stroke:#c271d2; stroke-width:4; stroke-opacity:1; fill:none\" points=\"\n",
              "  933.978,2927.71 933.978,-1392.99 \n",
              "  \"/>\n",
              "<path clip-path=\"url(#clip4500)\" d=\"\n",
              "M1741.17 433.164 L2280.76 433.164 L2280.76 130.764 L1741.17 130.764  Z\n",
              "  \" fill=\"#ffffff\" fill-rule=\"evenodd\" fill-opacity=\"1\"/>\n",
              "<polyline clip-path=\"url(#clip4500)\" style=\"stroke:#000000; stroke-width:4; stroke-opacity:1; fill:none\" points=\"\n",
              "  1741.17,433.164 2280.76,433.164 2280.76,130.764 1741.17,130.764 1741.17,433.164 \n",
              "  \"/>\n",
              "<polyline clip-path=\"url(#clip4500)\" style=\"stroke:#009af9; stroke-width:4; stroke-opacity:1; fill:none\" points=\"\n",
              "  1765.17,191.244 1909.17,191.244 \n",
              "  \"/>\n",
              "<g clip-path=\"url(#clip4500)\">\n",
              "<text style=\"fill:#000000; fill-opacity:1; font-family:Arial,Helvetica Neue,Helvetica,sans-serif; font-size:48px; text-anchor:start;\" transform=\"rotate(0, 1933.17, 208.744)\" x=\"1933.17\" y=\"208.744\">Ordering Cost</text>\n",
              "</g>\n",
              "<polyline clip-path=\"url(#clip4500)\" style=\"stroke:#e26f46; stroke-width:4; stroke-opacity:1; fill:none\" points=\"\n",
              "  1765.17,251.724 1909.17,251.724 \n",
              "  \"/>\n",
              "<g clip-path=\"url(#clip4500)\">\n",
              "<text style=\"fill:#000000; fill-opacity:1; font-family:Arial,Helvetica Neue,Helvetica,sans-serif; font-size:48px; text-anchor:start;\" transform=\"rotate(0, 1933.17, 269.224)\" x=\"1933.17\" y=\"269.224\">Holding Cost</text>\n",
              "</g>\n",
              "<polyline clip-path=\"url(#clip4500)\" style=\"stroke:#3da44d; stroke-width:4; stroke-opacity:1; fill:none\" points=\"\n",
              "  1765.17,312.204 1909.17,312.204 \n",
              "  \"/>\n",
              "<g clip-path=\"url(#clip4500)\">\n",
              "<text style=\"fill:#000000; fill-opacity:1; font-family:Arial,Helvetica Neue,Helvetica,sans-serif; font-size:48px; text-anchor:start;\" transform=\"rotate(0, 1933.17, 329.704)\" x=\"1933.17\" y=\"329.704\">Total Cost</text>\n",
              "</g>\n",
              "<polyline clip-path=\"url(#clip4500)\" style=\"stroke:#c271d2; stroke-width:4; stroke-opacity:1; fill:none\" points=\"\n",
              "  1765.17,372.684 1909.17,372.684 \n",
              "  \"/>\n",
              "<g clip-path=\"url(#clip4500)\">\n",
              "<text style=\"fill:#000000; fill-opacity:1; font-family:Arial,Helvetica Neue,Helvetica,sans-serif; font-size:48px; text-anchor:start;\" transform=\"rotate(0, 1933.17, 390.184)\" x=\"1933.17\" y=\"390.184\">EOQ</text>\n",
              "</g>\n",
              "</svg>\n"
            ]
          },
          "metadata": {}
        }
      ],
      "execution_count": 55,
      "metadata": {
        "collapsed": true,
        "outputExpanded": false,
        "jupyter": {
          "source_hidden": false,
          "outputs_hidden": false
        },
        "nteract": {
          "transient": {
            "deleting": false
          }
        },
        "execution": {
          "iopub.status.busy": "2020-04-07T19:43:26.139Z",
          "iopub.execute_input": "2020-04-07T19:43:26.141Z",
          "iopub.status.idle": "2020-04-07T19:43:26.149Z"
        }
      }
    },
    {
      "cell_type": "markdown",
      "source": [
        "## Varients & Improvements\n",
        "This is a simplified model with many details represented as single parameter, and assumes these parementers are given."
      ],
      "metadata": {
        "nteract": {
          "transient": {
            "deleting": false
          }
        }
      }
    }
  ],
  "metadata": {
    "kernel_info": {
      "name": "julia-1.4"
    },
    "language_info": {
      "file_extension": ".jl",
      "name": "julia",
      "mimetype": "application/julia",
      "version": "1.4.0"
    },
    "kernelspec": {
      "argv": [
        "/opt/julia-1.4.0/bin/julia",
        "-i",
        "--startup-file=yes",
        "--color=yes",
        "--project=@.",
        "/home/yu/.julia/packages/IJulia/yLI42/src/kernel.jl",
        "{connection_file}"
      ],
      "display_name": "Julia 1.4.0",
      "env": {},
      "interrupt_mode": "signal",
      "language": "julia",
      "name": "julia-1.4"
    },
    "nteract": {
      "version": "0.22.4"
    }
  },
  "nbformat": 4,
  "nbformat_minor": 0
}