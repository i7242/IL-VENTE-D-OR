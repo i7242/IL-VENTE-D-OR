{
  "cells": [
    {
      "cell_type": "markdown",
      "source": [
        "# Chapter 2 Derivatives and Gradients"
      ],
      "metadata": {
        "nteract": {
          "transient": {
            "deleting": false
          }
        }
      }
    },
    {
      "cell_type": "markdown",
      "source": [
        "## Using SymEngine to calculate symbolic derivative.\n",
        "* SymEngine\n",
        "* @vars x\n",
        "* f = x^2 + 2x\n",
        "* diff(f,x)\n",
        "\n",
        "It support multi-variable cases."
      ],
      "metadata": {
        "nteract": {
          "transient": {
            "deleting": false
          }
        }
      }
    },
    {
      "cell_type": "code",
      "source": [
        "using SymEngine"
      ],
      "outputs": [],
      "execution_count": 1,
      "metadata": {
        "collapsed": false,
        "jupyter": {
          "source_hidden": false,
          "outputs_hidden": false
        },
        "nteract": {
          "transient": {
            "deleting": false
          }
        },
        "execution": {
          "iopub.status.busy": "2020-03-27T17:23:38.936Z",
          "iopub.execute_input": "2020-03-27T17:23:40.077Z",
          "iopub.status.idle": "2020-03-27T17:23:43.255Z"
        }
      }
    },
    {
      "cell_type": "code",
      "source": [
        "@vars x\n",
        "@vars y\n",
        "f = x^2 + x/2 - sin(x)/x + y^2 + 1/y"
      ],
      "outputs": [
        {
          "output_type": "execute_result",
          "execution_count": 2,
          "data": {
            "text/plain": [
              "(1/2)*x - sin(x)/x + x^2 + y^(-1) + y^2"
            ]
          },
          "metadata": {}
        }
      ],
      "execution_count": 2,
      "metadata": {
        "collapsed": false,
        "jupyter": {
          "source_hidden": false,
          "outputs_hidden": false
        },
        "nteract": {
          "transient": {
            "deleting": false
          }
        },
        "execution": {
          "iopub.status.busy": "2020-03-27T17:23:43.259Z",
          "iopub.execute_input": "2020-03-27T17:23:43.261Z",
          "iopub.status.idle": "2020-03-27T17:23:43.890Z"
        }
      }
    },
    {
      "cell_type": "code",
      "source": [
        "println(diff(f, y))\n",
        "println(diff(f, x))"
      ],
      "outputs": [
        {
          "output_type": "stream",
          "name": "stdout",
          "text": [
            "2*y - y^(-2)\n",
            "1/2 + 2*x + sin(x)/x^2 - cos(x)/x\n"
          ]
        }
      ],
      "execution_count": 3,
      "metadata": {
        "collapsed": false,
        "jupyter": {
          "source_hidden": false,
          "outputs_hidden": false
        },
        "nteract": {
          "transient": {
            "deleting": false
          }
        },
        "execution": {
          "iopub.status.busy": "2020-03-27T17:23:45.263Z",
          "iopub.execute_input": "2020-03-27T17:23:45.267Z",
          "iopub.status.idle": "2020-03-27T17:23:45.467Z"
        }
      }
    },
    {
      "cell_type": "markdown",
      "source": [
        "## Automatic Differentiation\n",
        "Automatic Differentiation is based on the application of **Chain Rule**. Complex algorithms can be decomposited to **Primitive Operations**, and these primitive operations form a **Computational Graph**. Automatic differentiation first constructs computational graph, then calculates derivates based on it. It is important for **OR** and **ML**.\n",
        "\n",
        "This exercise tries to implement simple Forward/Reverse accumulation.\n",
        "* Forward Accumulation needs one pass to calculate $\\frac{\\partial f}{\\partial x}$, and need $n$ time pass to calculate $\\nabla f$\n",
        "* Reverse Accumulation is preffered when calculating gradient. It need one *forward pass* to get intermediate values, and one *backward pass* to get the gradient. Since intermediate values are saved, memory should be optimized if computational graph is large.\n",
        "\n",
        "Automatic Differentiation Packages:\n",
        "* Forward: `ForwardDiff.jl`\n",
        "* Reverse: `Zygote.jl`"
      ],
      "metadata": {
        "nteract": {
          "transient": {
            "deleting": false
          }
        }
      }
    },
    {
      "cell_type": "markdown",
      "source": [
        "### Forward Accumulation\n",
        "\n",
        "> **Keyword: Dual Number**\n",
        "\n",
        "* Need Dual Number:\n",
        "    * save variable value\n",
        "    * save its derivate\n",
        "* Implement Basic Operation Methods for Dual Number $\\partial$\n",
        "\n",
        "Notes:\n",
        "* need to implement every possible operations with every data types\n",
        "* numerical method, only calculate when values for variable and partial variable are given"
      ],
      "metadata": {
        "nteract": {
          "transient": {
            "deleting": false
          }
        }
      }
    },
    {
      "cell_type": "code",
      "source": [
        "# Dual Number\n",
        "struct Dual\n",
        "    v\n",
        "    ∂\n",
        "end\n",
        "\n",
        "# Basic Operations: +-*/^\n",
        "Base.:+(a::Dual, b::Dual) = Dual(a.v + b.v, a.∂ + b.∂)\n",
        "Base.:-(a::Dual, b::Dual) = Dual(a.v - b.v, a.∂ - b.∂)\n",
        "Base.:*(a::Dual, b::Dual) = Dual(a.v*b.v, a.∂*b.v + a.v*b.∂)\n",
        "Base.:*(a::Int64, b::Dual) = Dual(a*b.v, a*b.∂)\n",
        "Base.:/(a::Dual, b::Dual) = Dual(a.v/b.v, a.∂/b.v - a.v*b.∂/b.v^2)\n",
        "Base.:^(a::Dual, b::Int64) = Dual(a.v^b, b*a.v^(b-1)*a.∂)\n",
        "\n",
        "# define a function as expression, and eva() it\n",
        "f = :(3x^2 + 2x + x*y)\n",
        "\n",
        "x = Dual(2, 1) # ∂f/∂x\n",
        "y = Dual(3, 0)\n",
        "\n",
        "∂f∂x = eval(f).∂\n",
        "\n",
        "x = Dual(2, 0)\n",
        "y = Dual(3, 1) # ∂f/∂y\n",
        "\n",
        "∂f∂y = eval(f).∂\n",
        "\n",
        "fv = eval(f).v\n",
        "\n",
        "println(\"For f(x, y) = 3x^2 + 2x +x*y when x = 2 and y = 3:\")\n",
        "println(\"f = $fv\")\n",
        "println(\"∂f/∂x = $∂f∂x\")\n",
        "println(\"∂f/∂y = $∂f∂y\")"
      ],
      "outputs": [
        {
          "output_type": "stream",
          "name": "stdout",
          "text": [
            "For f(x, y) = 3x^2 + 2x +x*y when x = 2 and y = 3:\n",
            "f = 22\n",
            "∂f/∂x = 17\n",
            "∂f/∂y = 2\n"
          ]
        }
      ],
      "execution_count": 4,
      "metadata": {
        "collapsed": false,
        "jupyter": {
          "source_hidden": false,
          "outputs_hidden": false
        },
        "nteract": {
          "transient": {
            "deleting": false
          }
        },
        "execution": {
          "iopub.status.busy": "2020-03-27T17:23:55.227Z",
          "iopub.execute_input": "2020-03-27T17:23:55.233Z",
          "iopub.status.idle": "2020-03-27T17:23:55.556Z"
        },
        "outputExpanded": false,
        "tags": []
      }
    },
    {
      "cell_type": "markdown",
      "source": [
        "### Reverse Accumulation\n",
        "\n",
        "> **Keyword: Recursion**\n",
        "\n",
        "Reverse Accumulation is based on the observation, that $∂f/∂x = ∂f/∂p \\cdot ∂p/∂x$. This means, at the bottom level of the computational graph, when we need to get the partial derivative, it is only related to $x$'s parent $p$. The middle part, $∂f/∂p$, can be shared with other variables.\n",
        "\n",
        "And we can do this **recursively**, $∂f/∂p = ∂f/∂p^* \\cdot ∂p^*/∂p$ **{recursion rule}**, to get all intermediate partial derivatives ($p^*$ is the parent of $p$). At the top of the graph, we have $∂f/∂f = 1$ **{base case}**.\n",
        "\n",
        "> This is the reverse of common partial derivative calculation process, we can consider it as first expand all partial derivates along the graph, then collapse between $f$ and $p$.\n",
        "\n",
        "The Reverse Accumulation has two phases. We can still use **Dual Number** to calculate, but the meaning is different.\n",
        "\n",
        "In **Forward Pass** we calculate from variables to function return value, get the `Dual.v` for each intermediate variable. Besides, we can get local derivate information `Dual.∂` for each variable. `Dual.∂` is only related to variable's parent and cussion. For example $w = log(z), z = x \\cdot y$:\n",
        "```\n",
        "x\n",
        "  \\\n",
        "   * -- z -- log(z) -- w\n",
        "  /\n",
        "y\n",
        "\n",
        "```\n",
        "$x_{dual} = (x, ∂z/∂x) = (x, y)$  \n",
        "$y_{dual} = (y, ∂z/∂y) = (y, x)$  \n",
        "$z_{dual} = (z, ∂w/∂z) = (z, \\frac{1}{z}) = (x \\cdot y, \\frac{1}{x \\cdot y})$  \n",
        "$w_{dual} = (w, ∂w/∂w) = (w, 1) = (log(x \\cdot y), 1)$\n",
        "\n",
        "#### Comparison with Forward Accumulatin:\n",
        "\n",
        "Let $x$ be the variable, $w$ be the current intermediate partial derivate (can also equals to $x$), $p$ be the parent of $w$.\n",
        "\n",
        "Forward: $w_{dual} = (w.value, ∂w/∂x)$  \n",
        "Reverse: $w_{dual} = (w.value, ∂p/∂w)$\n",
        "\n",
        "Forward dual value is used to calculate parent's partial derivate/dual value. Reverse dual value is used for back propagation to get the chained product.\n",
        "\n",
        "In forward accumulation, every calculation is related to the variable $x$ you have choosen in advance. In reverse accumulation, the variable $x$ is only involved until the last level on the graph in backward pass.\n",
        "\n",
        "The implementation of Reverse Accumulatin is more complex than Forward Accumulation. Here is an amazing blog by [Roger Luo](http://blog.rogerluo.me/)."
      ],
      "metadata": {
        "nteract": {
          "transient": {
            "deleting": false
          }
        }
      }
    }
  ],
  "metadata": {
    "kernel_info": {
      "name": "julia-1.4"
    },
    "language_info": {
      "file_extension": ".jl",
      "name": "julia",
      "mimetype": "application/julia",
      "version": "1.4.0"
    },
    "kernelspec": {
      "argv": [
        "/opt/julia-1.4.0/bin/julia",
        "-i",
        "--startup-file=yes",
        "--color=yes",
        "--project=@.",
        "/home/yu/.julia/packages/IJulia/yLI42/src/kernel.jl",
        "{connection_file}"
      ],
      "display_name": "Julia 1.4.0",
      "env": {},
      "interrupt_mode": "signal",
      "language": "julia",
      "name": "julia-1.4"
    },
    "nteract": {
      "version": "0.22.0"
    }
  },
  "nbformat": 4,
  "nbformat_minor": 0
}